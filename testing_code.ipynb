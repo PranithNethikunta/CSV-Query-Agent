{
 "cells": [
  {
   "cell_type": "code",
   "execution_count": 14,
   "id": "09a8582c",
   "metadata": {},
   "outputs": [
    {
     "data": {
      "text/plain": [
       "True"
      ]
     },
     "execution_count": 14,
     "metadata": {},
     "output_type": "execute_result"
    }
   ],
   "source": [
    "import os\n",
    "from dotenv import load_dotenv\n",
    "load_dotenv()"
   ]
  },
  {
   "cell_type": "code",
   "execution_count": 15,
   "id": "2a57197a",
   "metadata": {},
   "outputs": [],
   "source": [
    "os.environ[\"GROQ_API_KEY\"]=os.getenv(\"GROQ_API_KEY\")"
   ]
  },
  {
   "cell_type": "code",
   "execution_count": 21,
   "id": "46f3de88",
   "metadata": {},
   "outputs": [
    {
     "data": {
      "text/plain": [
       "ChatGroq(client=<groq.resources.chat.completions.Completions object at 0x0000012C01520260>, async_client=<groq.resources.chat.completions.AsyncCompletions object at 0x0000012C013877A0>, model_name='llama3-8b-8192', model_kwargs={}, groq_api_key=SecretStr('**********'))"
      ]
     },
     "execution_count": 21,
     "metadata": {},
     "output_type": "execute_result"
    }
   ],
   "source": [
    "from langchain.chat_models import init_chat_model\n",
    "model = init_chat_model(\"llama3-8b-8192\", model_provider=\"groq\")\n",
    "model"
   ]
  },
  {
   "cell_type": "code",
   "execution_count": 23,
   "id": "1a339dc5",
   "metadata": {},
   "outputs": [
    {
     "name": "stdout",
     "output_type": "stream",
     "text": [
      "The capital of Japan is Tokyo.\n"
     ]
    }
   ],
   "source": [
    "response = model.invoke(\"What is the capital of Japan?\")\n",
    "print(response.content)"
   ]
  },
  {
   "cell_type": "code",
   "execution_count": 30,
   "id": "ca4e4bf3",
   "metadata": {},
   "outputs": [],
   "source": [
    "from langchain_community.document_loaders.csv_loader import CSVLoader\n",
    "file__path = r\"D:\\K_AgentiAI\\DASH-AI_Agent\\Data\\CSV\\supermarket_sales.csv\"\n",
    "\n",
    "loader = CSVLoader(file_path=file__path,\n",
    "                   csv_args={\n",
    "                       \"delimiter\": \",\",\n",
    "                       \"quotechar\": '\"'\n",
    "                   })\n",
    "data = loader.load()"
   ]
  },
  {
   "cell_type": "code",
   "execution_count": null,
   "id": "1f19a88a",
   "metadata": {},
   "outputs": [
    {
     "name": "stdout",
     "output_type": "stream",
     "text": [
      "page_content='Invoice ID: 750-67-8428\n",
      "Branch: A\n",
      "City: Yangon\n",
      "Customer type: Member\n",
      "Gender: Female\n",
      "Product line: Health and beauty\n",
      "Unit price: 74.69\n",
      "Quantity: 7\n",
      "Tax 5%: 26.1415\n",
      "Total: 548.9715\n",
      "Date: 1/5/2019\n",
      "Time: 13:08\n",
      "Payment: Ewallet\n",
      "cogs: 522.83\n",
      "gross margin percentage: 4.761904762\n",
      "gross income: 26.1415\n",
      "Rating: 9.1' metadata={'source': 'D:\\\\K_AgentiAI\\\\DASH-AI_Agent\\\\Data\\\\CSV\\\\supermarket_sales.csv', 'row': 0}\n"
     ]
    }
   ],
   "source": [
    "print(data[0])"
   ]
  },
  {
   "cell_type": "code",
   "execution_count": 32,
   "id": "479bbe8a",
   "metadata": {},
   "outputs": [
    {
     "name": "stdout",
     "output_type": "stream",
     "text": [
      "page_content='Invoice ID: 750-67-8428\n",
      "Branch: A\n",
      "City: Yangon\n",
      "Customer type: Member\n",
      "Gender: Female\n",
      "Product line: Health and beauty\n",
      "Unit price: 74.69\n",
      "Quantity: 7\n",
      "Tax 5%: 26.1415\n",
      "Total: 548.9715\n",
      "Date: 1/5/2019\n",
      "Time: 13:08\n",
      "Payment: Ewallet\n",
      "cogs: 522.83\n",
      "gross margin percentage: 4.761904762\n",
      "gross income: 26.1415\n",
      "Rating: 9.1' metadata={'source': 'D:\\\\K_AgentiAI\\\\DASH-AI_Agent\\\\Data\\\\CSV\\\\supermarket_sales.csv', 'row': 0}\n",
      "page_content='Invoice ID: 226-31-3081\n",
      "Branch: C\n",
      "City: Naypyitaw\n",
      "Customer type: Normal\n",
      "Gender: Female\n",
      "Product line: Electronic accessories\n",
      "Unit price: 15.28\n",
      "Quantity: 5\n",
      "Tax 5%: 3.82\n",
      "Total: 80.22\n",
      "Date: 3/8/2019\n",
      "Time: 10:29\n",
      "Payment: Cash\n",
      "cogs: 76.4\n",
      "gross margin percentage: 4.761904762\n",
      "gross income: 3.82\n",
      "Rating: 9.6' metadata={'source': 'D:\\\\K_AgentiAI\\\\DASH-AI_Agent\\\\Data\\\\CSV\\\\supermarket_sales.csv', 'row': 1}\n"
     ]
    }
   ],
   "source": [
    "for record in data[:2]:\n",
    "    print(record)"
   ]
  },
  {
   "cell_type": "code",
   "execution_count": null,
   "id": "494405db",
   "metadata": {},
   "outputs": [],
   "source": [
    "from langchain.text_splitter import RecursiveCharacterTextSplitter\n"
   ]
  }
 ],
 "metadata": {
  "kernelspec": {
   "display_name": "Python 3",
   "language": "python",
   "name": "python3"
  },
  "language_info": {
   "codemirror_mode": {
    "name": "ipython",
    "version": 3
   },
   "file_extension": ".py",
   "mimetype": "text/x-python",
   "name": "python",
   "nbconvert_exporter": "python",
   "pygments_lexer": "ipython3",
   "version": "3.12.0"
  }
 },
 "nbformat": 4,
 "nbformat_minor": 5
}
