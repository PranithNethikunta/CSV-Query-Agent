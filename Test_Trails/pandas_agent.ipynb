{
 "cells": [
  {
   "cell_type": "code",
   "execution_count": 1,
   "id": "c95ee774",
   "metadata": {},
   "outputs": [
    {
     "data": {
      "text/plain": [
       "True"
      ]
     },
     "execution_count": 1,
     "metadata": {},
     "output_type": "execute_result"
    }
   ],
   "source": [
    "import os\n",
    "from dotenv import load_dotenv\n",
    "load_dotenv()"
   ]
  },
  {
   "cell_type": "code",
   "execution_count": 2,
   "id": "c686f0dd",
   "metadata": {},
   "outputs": [],
   "source": [
    "os.environ[\"GROQ_API_KEY\"]=os.getenv(\"GROQ_API_KEY\")"
   ]
  },
  {
   "cell_type": "code",
   "execution_count": null,
   "id": "07aed037",
   "metadata": {},
   "outputs": [
    {
     "name": "stdout",
     "output_type": "stream",
     "text": [
      "\n",
      "💬 Question: Which product has the highest price?\n",
      "🧠 Generated Code:\n",
      "df.loc[df['Price'].idxmax()]\n",
      "\n",
      "📊 Result:\n",
      "No result found\n"
     ]
    },
    {
     "name": "stderr",
     "output_type": "stream",
     "text": [
      "C:\\Users\\nethi\\AppData\\Local\\Temp\\ipykernel_27340\\3357062014.py:39: LangChainDeprecationWarning: The method `BaseTool.__call__` was deprecated in langchain-core 0.1.47 and will be removed in 1.0. Use :meth:`~invoke` instead.\n",
      "  result = query_dataframe(tool_call[\"args\"]['code'])\n"
     ]
    },
    {
     "name": "stdout",
     "output_type": "stream",
     "text": [
      "\n",
      "🗣️ Final Answer:\n",
      "\n"
     ]
    }
   ],
   "source": [
    "import pandas as pd\n",
    "from langchain_core.tools import tool\n",
    "from langchain_core.runnables import Runnable\n",
    "from langchain.chat_models import init_chat_model\n",
    "\n",
    "# Sample DataFrame\n",
    "df = pd.DataFrame({\n",
    "    \"Product\": [\"Apple\", \"Banana\", \"Orange\"],\n",
    "    \"Price\": [1.2, 0.8, 1.5],\n",
    "    \"Quantity\": [100, 150, 120]\n",
    "})\n",
    "from langchain_core.prompts import ChatPromptTemplate\n",
    "\n",
    "# System prompt to restrict LLM behavior\n",
    "prompt = ChatPromptTemplate.from_template(\"\"\"\n",
    "You are a Python data analyst.\n",
    "You are ONLY allowed to call the function: query_dataframe(code: str)\n",
    "Use one line of pandas code and store the output in a variable named `result`.\n",
    "\n",
    "Example:\n",
    "result = df.loc[df['Price'].idxmax()]\n",
    "\n",
    "The dataframe is named `df` and has these columns: Product, Price, Quantity.\n",
    "\n",
    "Do NOT invent any function name. Only call `query_dataframe`.\n",
    "\n",
    "User question: {question}\n",
    "\"\"\")\n",
    "\n",
    "# Format the input for the LLM\n",
    "input_msg = prompt.format_messages(question=\"Which product has the highest price?\")\n",
    "\n",
    "# Now invoke LLM with the proper context\n",
    "response = model.invoke(input_msg)\n",
    "\n",
    "# Tool definition\n",
    "@tool\n",
    "def query_dataframe(code: str) -> str:\n",
    "    \"\"\"Execute a line of pandas code using 'df'. Store the result in a variable called 'result'.\"\"\"\n",
    "    local_vars = {'df': df}\n",
    "    try:\n",
    "        exec(code, {}, local_vars)\n",
    "        return str(local_vars.get(\"result\", \"No result found\"))\n",
    "    except Exception as e:\n",
    "        return f\"Error: {e}\"\n",
    "\n",
    "# LLM setup with tool binding\n",
    "model = init_chat_model(\"llama3-8b-8192\", model_provider=\"groq\").bind_tools([query_dataframe])\n",
    "chain: Runnable = model\n",
    "\n",
    "def run_agent(question: str):\n",
    "    print(f\"\\n💬 Question: {question}\")\n",
    "\n",
    "    input_msg = prompt.format_messages(question=question)\n",
    "    response = model.invoke(input_msg)\n",
    "\n",
    "    if hasattr(response, 'tool_calls') and response.tool_calls:\n",
    "        tool_call = response.tool_calls[0]\n",
    "        #print(f\"\\n🔧 Tool Called: {tool_call.name}\")\n",
    "        print(f\"🧠 Generated Code:\\n{tool_call[\"args\"]['code']}\")\n",
    "\n",
    "        result = query_dataframe(tool_call[\"args\"]['code'])\n",
    "        print(f\"\\n📊 Result:\\n{result}\")\n",
    "\n",
    "        # Final explanation\n",
    "        follow_up = f\"The user asked: '{question}'. The result is: {result}\"\n",
    "        explanation = model.invoke(follow_up)\n",
    "        print(f\"\\n🗣️ Final Answer:\\n{explanation.content}\")\n",
    "    else:\n",
    "        print(\"\\n❌ No tool call made.\")\n",
    "        print(\"LLM said:\\n\", response.content)\n",
    "\n",
    "\n",
    "# 🚀 Run\n",
    "run_agent(\"Which product has the highest price?\")\n"
   ]
  },
  {
   "cell_type": "code",
   "execution_count": 32,
   "id": "a34ab458",
   "metadata": {},
   "outputs": [],
   "source": [
    "result = df.loc[df['Price'].idxmax()]\n"
   ]
  },
  {
   "cell_type": "code",
   "execution_count": 33,
   "id": "9072228b",
   "metadata": {},
   "outputs": [
    {
     "data": {
      "text/plain": [
       "Product     Orange\n",
       "Price          1.5\n",
       "Quantity       120\n",
       "Name: 2, dtype: object"
      ]
     },
     "execution_count": 33,
     "metadata": {},
     "output_type": "execute_result"
    }
   ],
   "source": [
    "result"
   ]
  },
  {
   "cell_type": "code",
   "execution_count": 26,
   "id": "6cbdc45d",
   "metadata": {},
   "outputs": [
    {
     "data": {
      "text/plain": [
       "\"result = df.loc[df['Price'].idxmax()]\""
      ]
     },
     "execution_count": 26,
     "metadata": {},
     "output_type": "execute_result"
    }
   ],
   "source": [
    "response.tool_calls[0][\"args\"][\"code\"]# The generated code"
   ]
  },
  {
   "cell_type": "code",
   "execution_count": 60,
   "id": "c987a563",
   "metadata": {},
   "outputs": [
    {
     "name": "stderr",
     "output_type": "stream",
     "text": [
      "<>:8: SyntaxWarning: invalid escape sequence '\\K'\n",
      "<>:8: SyntaxWarning: invalid escape sequence '\\K'\n",
      "C:\\Users\\nethi\\AppData\\Local\\Temp\\ipykernel_27340\\3379807604.py:8: SyntaxWarning: invalid escape sequence '\\K'\n",
      "  df = pd.read_csv(\"D:\\K_AgentiAI\\DASH-AI_Agent\\Data\\CSV\\supermarket_sales.csv\")\n"
     ]
    },
    {
     "name": "stdout",
     "output_type": "stream",
     "text": [
      "\n",
      "💬 Question: what is total count of invoice id generated from branch A ?\n",
      "\n",
      "🧠 Generated pandas code:\n",
      "df[df['Branch'] == 'A']['Invoice ID'].count()\n",
      "{'df':       Invoice ID Branch       City Customer type  Gender  \\\n",
      "0    750-67-8428      A     Yangon        Member  Female   \n",
      "1    226-31-3081      C  Naypyitaw        Normal  Female   \n",
      "2    631-41-3108      A     Yangon        Normal    Male   \n",
      "3    123-19-1176      A     Yangon        Member    Male   \n",
      "4    373-73-7910      A     Yangon        Normal    Male   \n",
      "..           ...    ...        ...           ...     ...   \n",
      "995  233-67-5758      C  Naypyitaw        Normal    Male   \n",
      "996  303-96-2227      B   Mandalay        Normal  Female   \n",
      "997  727-02-1313      A     Yangon        Member    Male   \n",
      "998  347-56-2442      A     Yangon        Normal    Male   \n",
      "999  849-09-3807      A     Yangon        Member  Female   \n",
      "\n",
      "               Product line  Unit price  Quantity   Tax 5%      Total  \\\n",
      "0         Health and beauty       74.69         7  26.1415   548.9715   \n",
      "1    Electronic accessories       15.28         5   3.8200    80.2200   \n",
      "2        Home and lifestyle       46.33         7  16.2155   340.5255   \n",
      "3         Health and beauty       58.22         8  23.2880   489.0480   \n",
      "4         Sports and travel       86.31         7  30.2085   634.3785   \n",
      "..                      ...         ...       ...      ...        ...   \n",
      "995       Health and beauty       40.35         1   2.0175    42.3675   \n",
      "996      Home and lifestyle       97.38        10  48.6900  1022.4900   \n",
      "997      Food and beverages       31.84         1   1.5920    33.4320   \n",
      "998      Home and lifestyle       65.82         1   3.2910    69.1110   \n",
      "999     Fashion accessories       88.34         7  30.9190   649.2990   \n",
      "\n",
      "           Date   Time      Payment    cogs  gross margin percentage  \\\n",
      "0    01-05-2019  13:08      Ewallet  522.83                 4.761905   \n",
      "1    03-08-2019  10:29         Cash   76.40                 4.761905   \n",
      "2    03-03-2019  13:23  Credit card  324.31                 4.761905   \n",
      "3     1/27/2019  20:33      Ewallet  465.76                 4.761905   \n",
      "4    02-08-2019  10:37      Ewallet  604.17                 4.761905   \n",
      "..          ...    ...          ...     ...                      ...   \n",
      "995   1/29/2019  13:46      Ewallet   40.35                 4.761905   \n",
      "996  03-02-2019  17:16      Ewallet  973.80                 4.761905   \n",
      "997  02-09-2019  13:22         Cash   31.84                 4.761905   \n",
      "998   2/22/2019  15:33         Cash   65.82                 4.761905   \n",
      "999   2/18/2019  13:28         Cash  618.38                 4.761905   \n",
      "\n",
      "     gross income  Rating  \n",
      "0         26.1415     9.1  \n",
      "1          3.8200     9.6  \n",
      "2         16.2155     7.4  \n",
      "3         23.2880     8.4  \n",
      "4         30.2085     5.3  \n",
      "..            ...     ...  \n",
      "995        2.0175     6.2  \n",
      "996       48.6900     4.4  \n",
      "997        1.5920     7.7  \n",
      "998        3.2910     4.1  \n",
      "999       30.9190     6.6  \n",
      "\n",
      "[1000 rows x 17 columns]}\n",
      "\n",
      "📊 Query Result:\n",
      "340\n",
      "\n",
      "🔍 Explanation Prompt:\n",
      "The user asked: 'what is total count of invoice id generated from branch A ?'. The result of executing 'df[df['Branch'] == 'A']['Invoice ID'].count()' is: 340,Please now give the final response to the user.Dont use any tool call now\n",
      "\n",
      "🗣️ Final Answer:\n",
      "The total count of invoice IDs generated from branch A is 340.\n"
     ]
    }
   ],
   "source": [
    "import pandas as pd\n",
    "from langchain_core.tools import tool\n",
    "from langchain_core.runnables import Runnable\n",
    "from langchain.chat_models import init_chat_model\n",
    "from langchain_core.prompts import ChatPromptTemplate\n",
    "\n",
    "# Sample DataFrame\n",
    "df = pd.read_csv(\"D:\\K_AgentiAI\\DASH-AI_Agent\\Data\\CSV\\supermarket_sales.csv\")\n",
    "cols=df.columns.to_list()\n",
    "# Define the tool\n",
    "@tool\n",
    "def query_dataframe(code: str) -> str:\n",
    "    \"\"\"Takes a pandas query (e.g., df['Price'].max()) and executes it on the DataFrame 'df'.\n",
    "    You do NOT need to include `result =` — that will be handled inside this tool.\"\"\"\n",
    "    local_vars = {'df': df}\n",
    "    print(local_vars)\n",
    "    try:\n",
    "        exec(f\"result = {code}\", {}, local_vars)\n",
    "        return str(local_vars.get(\"result\", \"No result found\"))\n",
    "    except Exception as e:\n",
    "        return f\"Error: {e}\"\n",
    "\n",
    "# Initialize LLM with the tool\n",
    "model = init_chat_model(\"llama3-8b-8192\", model_provider=\"groq\").bind_tools([query_dataframe])\n",
    "chain: Runnable = model\n",
    "\n",
    "# Prompt instructing model to return ONLY the pandas query string\n",
    "prompt = ChatPromptTemplate.from_template(\"\"\"\n",
    "You are a pandas expert. Given a question about a DataFrame with columns: {cols}.\n",
    "                      \n",
    "User question: {question}\n",
    "\"\"\")\n",
    "\n",
    "# Main function to run agent\n",
    "def run_agent(question: str):\n",
    "    print(f\"\\n💬 Question: {question}\")\n",
    "\n",
    "    # Generate pandas code using LLM\n",
    "    input_msg = prompt.format_messages(question=question,cols=cols)\n",
    "    response = model.invoke(input_msg)\n",
    "\n",
    "    if hasattr(response, 'tool_calls') and response.tool_calls:\n",
    "        tool_call = response.tool_calls[0]\n",
    "        pandas_query = tool_call[\"args\"]['code']\n",
    "        print(f\"\\n🧠 Generated pandas code:\\n{pandas_query}\")\n",
    "\n",
    "        # Run the tool\n",
    "        result = query_dataframe.invoke({\"code\": pandas_query})\n",
    "\n",
    "        print(f\"\\n📊 Query Result:\\n{result}\")\n",
    "\n",
    "        # Second LLM call to explain result\n",
    "        explanation_prompt = f\"The user asked: '{question}'. The result of executing '{pandas_query}' is: {result},Please now give the final response to the user.Dont use any tool call now\"\n",
    "        print(f\"\\n🔍 Explanation Prompt:\\n{explanation_prompt}\")\n",
    "        explanation = model.invoke(explanation_prompt)\n",
    "        # Print the final explanation\n",
    "        print(f\"\\n🗣️ Final Answer:\\n{explanation.content}\")\n",
    "    else:\n",
    "        print(\"\\n❌ No tool call made.\")\n",
    "        print(\"LLM response:\\n\", response.content)\n",
    "\n",
    "run_agent(\"what is total count of invoice id generated from branch A ?\")"
   ]
  },
  {
   "cell_type": "code",
   "execution_count": 69,
   "id": "6ba61956",
   "metadata": {},
   "outputs": [
    {
     "name": "stdout",
     "output_type": "stream",
     "text": [
      "\n",
      "💬 Question:  Get the Most Common Product Line Purchased by Customers in Branch 'A' \n",
      "\n",
      "🧠 Generated pandas code:\n",
      "df.loc[df['Branch'] == 'A'].groupby('Product line')['Invoice ID'].count().sort_values(ascending=False).head(1)\n",
      "{'df':       Invoice ID Branch       City Customer type  Gender  \\\n",
      "0    750-67-8428      A     Yangon        Member  Female   \n",
      "1    226-31-3081      C  Naypyitaw        Normal  Female   \n",
      "2    631-41-3108      A     Yangon        Normal    Male   \n",
      "3    123-19-1176      A     Yangon        Member    Male   \n",
      "4    373-73-7910      A     Yangon        Normal    Male   \n",
      "..           ...    ...        ...           ...     ...   \n",
      "995  233-67-5758      C  Naypyitaw        Normal    Male   \n",
      "996  303-96-2227      B   Mandalay        Normal  Female   \n",
      "997  727-02-1313      A     Yangon        Member    Male   \n",
      "998  347-56-2442      A     Yangon        Normal    Male   \n",
      "999  849-09-3807      A     Yangon        Member  Female   \n",
      "\n",
      "               Product line  Unit price  Quantity   Tax 5%      Total  \\\n",
      "0         Health and beauty       74.69         7  26.1415   548.9715   \n",
      "1    Electronic accessories       15.28         5   3.8200    80.2200   \n",
      "2        Home and lifestyle       46.33         7  16.2155   340.5255   \n",
      "3         Health and beauty       58.22         8  23.2880   489.0480   \n",
      "4         Sports and travel       86.31         7  30.2085   634.3785   \n",
      "..                      ...         ...       ...      ...        ...   \n",
      "995       Health and beauty       40.35         1   2.0175    42.3675   \n",
      "996      Home and lifestyle       97.38        10  48.6900  1022.4900   \n",
      "997      Food and beverages       31.84         1   1.5920    33.4320   \n",
      "998      Home and lifestyle       65.82         1   3.2910    69.1110   \n",
      "999     Fashion accessories       88.34         7  30.9190   649.2990   \n",
      "\n",
      "           Date   Time      Payment    cogs  gross margin percentage  \\\n",
      "0    01-05-2019  13:08      Ewallet  522.83                 4.761905   \n",
      "1    03-08-2019  10:29         Cash   76.40                 4.761905   \n",
      "2    03-03-2019  13:23  Credit card  324.31                 4.761905   \n",
      "3     1/27/2019  20:33      Ewallet  465.76                 4.761905   \n",
      "4    02-08-2019  10:37      Ewallet  604.17                 4.761905   \n",
      "..          ...    ...          ...     ...                      ...   \n",
      "995   1/29/2019  13:46      Ewallet   40.35                 4.761905   \n",
      "996  03-02-2019  17:16      Ewallet  973.80                 4.761905   \n",
      "997  02-09-2019  13:22         Cash   31.84                 4.761905   \n",
      "998   2/22/2019  15:33         Cash   65.82                 4.761905   \n",
      "999   2/18/2019  13:28         Cash  618.38                 4.761905   \n",
      "\n",
      "     gross income  Rating  \n",
      "0         26.1415     9.1  \n",
      "1          3.8200     9.6  \n",
      "2         16.2155     7.4  \n",
      "3         23.2880     8.4  \n",
      "4         30.2085     5.3  \n",
      "..            ...     ...  \n",
      "995        2.0175     6.2  \n",
      "996       48.6900     4.4  \n",
      "997        1.5920     7.7  \n",
      "998        3.2910     4.1  \n",
      "999       30.9190     6.6  \n",
      "\n",
      "[1000 rows x 17 columns]}\n",
      "\n",
      "📊 Query Result:\n",
      "Product line\n",
      "Home and lifestyle    65\n",
      "Name: Invoice ID, dtype: int64\n",
      "\n",
      "🔍 Explanation Prompt:\n",
      "The user asked: ' Get the Most Common Product Line Purchased by Customers in Branch 'A' '. The result of executing 'df.loc[df['Branch'] == 'A'].groupby('Product line')['Invoice ID'].count().sort_values(ascending=False).head(1)' is: Product line\n",
      "Home and lifestyle    65\n",
      "Name: Invoice ID, dtype: int64,Please now give the final response to the user.Dont use any tool call now\n",
      "\n",
      "🗣️ Final Answer:\n",
      "The most common product line purchased by customers in Branch 'A' is Home and lifestyle, with 65 invoices.\n"
     ]
    }
   ],
   "source": [
    "run_agent(\" Get the Most Common Product Line Purchased by Customers in Branch 'A' \")"
   ]
  },
  {
   "cell_type": "code",
   "execution_count": 64,
   "id": "7ef39eeb",
   "metadata": {},
   "outputs": [
    {
     "data": {
      "text/plain": [
       "['Invoice ID',\n",
       " 'Branch',\n",
       " 'City',\n",
       " 'Customer type',\n",
       " 'Gender',\n",
       " 'Product line',\n",
       " 'Unit price',\n",
       " 'Quantity',\n",
       " 'Tax 5%',\n",
       " 'Total',\n",
       " 'Date',\n",
       " 'Time',\n",
       " 'Payment',\n",
       " 'cogs',\n",
       " 'gross margin percentage',\n",
       " 'gross income',\n",
       " 'Rating']"
      ]
     },
     "execution_count": 64,
     "metadata": {},
     "output_type": "execute_result"
    }
   ],
   "source": [
    "cols"
   ]
  }
 ],
 "metadata": {
  "kernelspec": {
   "display_name": "Python 3",
   "language": "python",
   "name": "python3"
  },
  "language_info": {
   "codemirror_mode": {
    "name": "ipython",
    "version": 3
   },
   "file_extension": ".py",
   "mimetype": "text/x-python",
   "name": "python",
   "nbconvert_exporter": "python",
   "pygments_lexer": "ipython3",
   "version": "3.12.0"
  }
 },
 "nbformat": 4,
 "nbformat_minor": 5
}
